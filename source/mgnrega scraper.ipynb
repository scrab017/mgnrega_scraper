{
 "cells": [
  {
   "cell_type": "code",
   "execution_count": null,
   "metadata": {},
   "outputs": [],
   "source": [
    "from selenium import webdriver\n",
    "from selenium.webdriver.common.keys import Keys\n",
    "from selenium.webdriver import FirefoxProfile\n",
    "from bs4 import BeautifulSoup\n",
    "import pandas as pd\n",
    "import os\n",
    "import requests\n",
    "from selenium.webdriver.support.ui import Select"
   ]
  },
  {
   "cell_type": "code",
   "execution_count": null,
   "metadata": {},
   "outputs": [],
   "source": [
    "list_months = [\"January\", \"February\", \"March\", \"April\", \"May\", \"June\", \"July\", \"August\", \"September\", \"October\", \"November\", \"December\"]\n",
    "list_years = [\"2011-2012\",\"2012-2013\",\"2013-2014\",\"2014-2015\",\"2015-2016\",\"2016-2017\",\"2017-2018\",\"2018-2019\",\"2019-2020\"]"
   ]
  },
  {
   "cell_type": "code",
   "execution_count": null,
   "metadata": {},
   "outputs": [],
   "source": [
    "for i in range(0,len(list_years)):\n",
    "    try:\n",
    "        os.chdir('D:\\\\Works\\\\mgnrega\\\\data')\n",
    "    \n",
    "        os.mkdir(list_years[i])\n",
    "        os.chdir(list_years[i])\n",
    "\n",
    "        for j in range(0,len(list_months)):\n",
    "            os.mkdir(list_months[j])\n",
    "            \n",
    "    except FileExistsError:\n",
    "        print(\"Directory \" , j ,  \" already exists\")"
   ]
  },
  {
   "cell_type": "code",
   "execution_count": null,
   "metadata": {},
   "outputs": [],
   "source": [
    "for i in range(0,len(list_years)):\n",
    "    for j in range(0,len(list_months)):\n",
    "        os.chdir('D:\\\\Works\\\\mgnrega\\\\data\\\\'+list_years[i]+'\\\\'+list_months[j])\n",
    "        print(os.getcwd())\n",
    "        \n",
    "        profile = FirefoxProfile()\n",
    "        profile.set_preference('browser.download.folderList', 2)\n",
    "        profile.set_preference('browser.download.manager.showWhenStarting', False)\n",
    "        profile.set_preference('browser.download.dir', os.getcwd())\n",
    "        profile.set_preference('browser.helperApps.neverAsk.saveToDisk', \"application/ms-excel, text/plain, application/vnd.ms-excel, text/csv, text/comma-separated-values, application/octet-stream, application/vnd.openxmlformats-officedocument.spreadsheetml.sheet\")\n",
    "        driver = webdriver.Firefox(profile)\n",
    "\n",
    "        driver.get(\"https://nregarep2.nic.in/netnrega/dynamic2/dynamicreport_new4.aspx\")\n",
    "        driver.find_element_by_xpath('//*[@id=\"checklist\"]/ul/li/label/input').click()\n",
    "        driver.find_element_by_xpath('//*[@id=\"ChkLstFieldsWorkerA_0\"]').click()\n",
    "        driver.find_element_by_xpath('//*[@id=\"ChkLstFieldsWorkerA_1\"]').click()\n",
    "        driver.find_element_by_xpath('//*[@id=\"ChkLstFieldsWorkerA_2\"]').click()\n",
    "        driver.find_element_by_xpath('//*[@id=\"ChkLstFieldsWorkerA_3\"]').click()\n",
    "        driver.find_element_by_xpath('//*[@id=\"ChkLstFieldsWorkerA_4\"]').click()\n",
    "        driver.find_element_by_xpath('//*[@id=\"ChkLstFieldsWorkerC_0\"]').click()\n",
    "        driver.find_element_by_xpath('//*[@id=\"ChkLstFieldsWorkerC_1\"]').click()\n",
    "        driver.find_element_by_xpath('//*[@id=\"ChkLstFieldsWorkerD_0\"]').click()\n",
    "        driver.find_element_by_xpath('//*[@id=\"ChkLstFieldsWorkerD_1\"]').click()\n",
    "        driver.find_element_by_xpath('//*[@id=\"ChkLstFieldsWorkerE_0\"]').click()\n",
    "        driver.find_element_by_xpath('//*[@id=\"ChkLstFieldsWorkerE_1\"]').click()\n",
    "        driver.find_element_by_xpath('//*[@id=\"ChkLstFieldsWorkerE_2\"]').click()\n",
    "        driver.find_element_by_xpath('//*[@id=\"ChkLstFieldsWorkerE_3\"]').click()\n",
    "        driver.find_element_by_xpath('//*[@id=\"ChkLstFieldsWorkerE_4\"]').click()\n",
    "        driver.find_element_by_xpath('//*[@id=\"ChkLstFieldsWorkerE_5\"]').click()\n",
    "        driver.find_element_by_xpath('//*[@id=\"ChkLstFieldsWorkerE_6\"]').click()\n",
    "        driver.find_element_by_xpath('//*[@id=\"ChkLstFieldsWorkerE_7\"]').click()\n",
    "        driver.find_element_by_xpath('//*[@id=\"ChkLstFieldsWorkerE_8\"]').click()\n",
    "        driver.find_element_by_xpath('//*[@id=\"ChkLstFieldsWorkerE_9\"]').click()\n",
    "        driver.find_element_by_xpath('//*[@id=\"ChkLstFieldsWorkerE_10\"]').click()\n",
    "        driver.find_element_by_xpath('//*[@id=\"ChkLstFieldsWorkerE_11\"]').click()\n",
    "        driver.find_element_by_xpath('//*[@id=\"ChkLstFieldsWorkerE_12\"]').click()\n",
    "        driver.find_element_by_xpath('//*[@id=\"ChkLstFieldsWorkerE_13\"]').click()\n",
    "\n",
    "        driver.find_element_by_xpath('//*[@id=\"CTxtBox1\"]').click()\n",
    "        driver.find_element_by_xpath('//*[@id=\"CTxtBox2\"]').click()\n",
    "\n",
    "        driver.find_element_by_xpath('//*[@id=\"TxtBox5\"]').click()\n",
    "        Select(driver.find_element_by_xpath('//*[@id=\"DdlstTxtBox5\"]')).select_by_visible_text(list_months[j])\n",
    "        driver.find_element_by_xpath('//*[@id=\"TxtBox6\"]').click()\n",
    "        Select(driver.find_element_by_xpath('//*[@id=\"DdlstTxtBox6\"]')).select_by_visible_text(list_months[j])\n",
    "        driver.find_element_by_xpath('//*[@id=\"TxtBox7\"]').click()\n",
    "        Select(driver.find_element_by_xpath('//*[@id=\"DdlstTxtBox7\"]')).select_by_visible_text(list_months[j])\n",
    "        driver.find_element_by_xpath('//*[@id=\"TxtBox8\"]').click()\n",
    "        Select(driver.find_element_by_xpath('//*[@id=\"DdlstTxtBox8\"]')).select_by_visible_text(list_months[j])\n",
    "\n",
    "        driver.find_element_by_xpath('//*[@id=\"ChkLstFieldsWork_0\"]').click()\n",
    "        driver.find_element_by_xpath('//*[@id=\"ChkLstFieldsWork_1\"]').click()\n",
    "        driver.find_element_by_xpath('//*[@id=\"ChkLstFieldsWork_2\"]').click()\n",
    "        driver.find_element_by_xpath('//*[@id=\"ChkLstFieldsWork_3\"]').click()\n",
    "\n",
    "        driver.find_element_by_xpath('//*[@id=\"ChkLstFieldsWork_W_0\"]').click()\n",
    "        driver.find_element_by_xpath('//*[@id=\"ChkLstFieldsWork_W_1\"]').click()\n",
    "\n",
    "        driver.find_element_by_xpath('//*[@id=\"CTxtBox3\"]').click()\n",
    "        driver.find_element_by_xpath('//*[@id=\"CTxtBox4\"]').click()\n",
    "        driver.find_element_by_xpath('//*[@id=\"CTxtBox5\"]').click()\n",
    "        driver.find_element_by_xpath('//*[@id=\"CTxtBox6\"]').click()\n",
    "        driver.find_element_by_xpath('//*[@id=\"CTxtBox7\"]').click()\n",
    "        driver.find_element_by_xpath('//*[@id=\"CTxtBox8\"]').click()\n",
    "        driver.find_element_by_xpath('//*[@id=\"CTxtBox9\"]').click()\n",
    "        driver.find_element_by_xpath('//*[@id=\"CTxtBox10\"]').click()\n",
    "\n",
    "        Select(driver.find_element_by_xpath('//*[@id=\"DdlstFinYear\"]')).select_by_visible_text(list_years[i])\n",
    "\n",
    "        button = driver.find_element_by_xpath('//*[@id=\"dwnldDummy\"]')\n",
    "        driver.execute_script(\"arguments[0].click();\", button)\n",
    "        driver.implicitly_wait(120)\n",
    "        #driver.close()"
   ]
  },
  {
   "cell_type": "code",
   "execution_count": null,
   "metadata": {},
   "outputs": [],
   "source": []
  }
 ],
 "metadata": {
  "kernelspec": {
   "display_name": "Python 3",
   "language": "python",
   "name": "python3"
  },
  "language_info": {
   "codemirror_mode": {
    "name": "ipython",
    "version": 3
   },
   "file_extension": ".py",
   "mimetype": "text/x-python",
   "name": "python",
   "nbconvert_exporter": "python",
   "pygments_lexer": "ipython3",
   "version": "3.6.5"
  }
 },
 "nbformat": 4,
 "nbformat_minor": 2
}
